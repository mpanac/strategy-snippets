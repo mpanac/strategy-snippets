{
 "cells": [
  {
   "cell_type": "code",
   "execution_count": 1,
   "metadata": {},
   "outputs": [],
   "source": [
    "# Import libraries\n",
    "import pandas as pd"
   ]
  },
  {
   "cell_type": "markdown",
   "metadata": {},
   "source": [
    "### Resample data from 1 min into a different timeframe"
   ]
  },
  {
   "cell_type": "code",
   "execution_count": 3,
   "metadata": {},
   "outputs": [
    {
     "name": "stdout",
     "output_type": "stream",
     "text": [
      "Successfully resampled to 1h timeframe\n"
     ]
    }
   ],
   "source": [
    "def resample_ohlcv(input_file, output_file, timeframe='1h'):\n",
    "    try:\n",
    "        # Read and prepare data\n",
    "        df = pd.read_csv(input_file)\n",
    "        df.columns = ['Timestamp', 'Open', 'High', 'Low', 'Close', 'Volume']\n",
    "        df['Timestamp'] = pd.to_datetime(df['Timestamp'])\n",
    "        df.set_index('Timestamp', inplace=True)\n",
    "        \n",
    "        # Verify data is sorted\n",
    "        if not df.index.is_monotonic_increasing:\n",
    "            df.sort_index(inplace=True)\n",
    "            \n",
    "        # Resample\n",
    "        df_resampled = df.resample(timeframe, closed='left', label='left').agg({\n",
    "            'Open': 'first',\n",
    "            'High': 'max',\n",
    "            'Low': 'min',\n",
    "            'Close': 'last',\n",
    "            'Volume': 'sum'\n",
    "        }).dropna()\n",
    "        \n",
    "        # Validate output\n",
    "        assert not df_resampled.empty, \"Resampling resulted in empty dataframe\"\n",
    "        assert not df_resampled.isnull().any().any(), \"NaN values found in resampled data\"\n",
    "        \n",
    "        # Save output\n",
    "        df_resampled.to_csv(output_file)\n",
    "        print(f\"Successfully resampled to {timeframe} timeframe\")\n",
    "        \n",
    "    except Exception as e:\n",
    "        print(f\"Error during resampling: {str(e)}\")\n",
    "\n",
    "# Usage\n",
    "input_file = 'data/futures/SOLUSDT/SOLUSDT_futures_2020-01-01_to_2025-01-30_1m.csv'\n",
    "output_file = '../data/SOLUSDT_1h_2020-2025.csv'\n",
    "resample_ohlcv(input_file, output_file, '1h')"
   ]
  },
  {
   "cell_type": "code",
   "execution_count": 4,
   "metadata": {},
   "outputs": [
    {
     "data": {
      "text/html": [
       "<div>\n",
       "<style scoped>\n",
       "    .dataframe tbody tr th:only-of-type {\n",
       "        vertical-align: middle;\n",
       "    }\n",
       "\n",
       "    .dataframe tbody tr th {\n",
       "        vertical-align: top;\n",
       "    }\n",
       "\n",
       "    .dataframe thead th {\n",
       "        text-align: right;\n",
       "    }\n",
       "</style>\n",
       "<table border=\"1\" class=\"dataframe\">\n",
       "  <thead>\n",
       "    <tr style=\"text-align: right;\">\n",
       "      <th></th>\n",
       "      <th>Timestamp</th>\n",
       "      <th>Open</th>\n",
       "      <th>High</th>\n",
       "      <th>Low</th>\n",
       "      <th>Close</th>\n",
       "      <th>Volume</th>\n",
       "    </tr>\n",
       "  </thead>\n",
       "  <tbody>\n",
       "    <tr>\n",
       "      <th>44527</th>\n",
       "      <td>2025-01-29 07:00:00</td>\n",
       "      <td>102763.2</td>\n",
       "      <td>102768.2</td>\n",
       "      <td>102417.4</td>\n",
       "      <td>102723.2</td>\n",
       "      <td>3872.373</td>\n",
       "    </tr>\n",
       "    <tr>\n",
       "      <th>44528</th>\n",
       "      <td>2025-01-29 08:00:00</td>\n",
       "      <td>102723.2</td>\n",
       "      <td>103012.6</td>\n",
       "      <td>102644.1</td>\n",
       "      <td>102705.0</td>\n",
       "      <td>4329.903</td>\n",
       "    </tr>\n",
       "    <tr>\n",
       "      <th>44529</th>\n",
       "      <td>2025-01-29 09:00:00</td>\n",
       "      <td>102705.0</td>\n",
       "      <td>102744.8</td>\n",
       "      <td>102258.4</td>\n",
       "      <td>102300.0</td>\n",
       "      <td>4454.092</td>\n",
       "    </tr>\n",
       "    <tr>\n",
       "      <th>44530</th>\n",
       "      <td>2025-01-29 10:00:00</td>\n",
       "      <td>102300.0</td>\n",
       "      <td>102690.0</td>\n",
       "      <td>102153.8</td>\n",
       "      <td>102510.0</td>\n",
       "      <td>3107.374</td>\n",
       "    </tr>\n",
       "    <tr>\n",
       "      <th>44531</th>\n",
       "      <td>2025-01-29 11:00:00</td>\n",
       "      <td>102510.0</td>\n",
       "      <td>102650.0</td>\n",
       "      <td>102374.4</td>\n",
       "      <td>102635.0</td>\n",
       "      <td>1396.357</td>\n",
       "    </tr>\n",
       "  </tbody>\n",
       "</table>\n",
       "</div>"
      ],
      "text/plain": [
       "                 Timestamp      Open      High       Low     Close    Volume\n",
       "44527  2025-01-29 07:00:00  102763.2  102768.2  102417.4  102723.2  3872.373\n",
       "44528  2025-01-29 08:00:00  102723.2  103012.6  102644.1  102705.0  4329.903\n",
       "44529  2025-01-29 09:00:00  102705.0  102744.8  102258.4  102300.0  4454.092\n",
       "44530  2025-01-29 10:00:00  102300.0  102690.0  102153.8  102510.0  3107.374\n",
       "44531  2025-01-29 11:00:00  102510.0  102650.0  102374.4  102635.0  1396.357"
      ]
     },
     "execution_count": 4,
     "metadata": {},
     "output_type": "execute_result"
    }
   ],
   "source": [
    "df = pd.read_csv('../data/BTCUSDT_1h_2020-2025.csv') # Load resampled data\n",
    "df.tail(5) # Display last 5 rows"
   ]
  }
 ],
 "metadata": {
  "kernelspec": {
   "display_name": ".venv",
   "language": "python",
   "name": "python3"
  },
  "language_info": {
   "codemirror_mode": {
    "name": "ipython",
    "version": 3
   },
   "file_extension": ".py",
   "mimetype": "text/x-python",
   "name": "python",
   "nbconvert_exporter": "python",
   "pygments_lexer": "ipython3",
   "version": "3.12.1"
  }
 },
 "nbformat": 4,
 "nbformat_minor": 2
}
