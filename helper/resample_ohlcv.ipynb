{
 "cells": [
  {
   "cell_type": "code",
   "execution_count": 10,
   "metadata": {},
   "outputs": [],
   "source": [
    "# Import libraries\n",
    "import pandas as pd"
   ]
  },
  {
   "cell_type": "markdown",
   "metadata": {},
   "source": [
    "### Resample data from 1 min into a different timeframe"
   ]
  },
  {
   "cell_type": "code",
   "execution_count": 11,
   "metadata": {},
   "outputs": [
    {
     "name": "stdout",
     "output_type": "stream",
     "text": [
      "Successfully resampled to 3h timeframe\n"
     ]
    }
   ],
   "source": [
    "def resample_ohlcv(input_file, output_file, timeframe='1h'):\n",
    "    try:\n",
    "        # Read and prepare data\n",
    "        df = pd.read_csv(input_file)\n",
    "        df.columns = ['Timestamp', 'Open', 'High', 'Low', 'Close', 'Volume']\n",
    "        df['Timestamp'] = pd.to_datetime(df['Timestamp'])\n",
    "        df.set_index('Timestamp', inplace=True)\n",
    "        \n",
    "        # Verify data is sorted\n",
    "        if not df.index.is_monotonic_increasing:\n",
    "            df.sort_index(inplace=True)\n",
    "            \n",
    "        # Resample\n",
    "        df_resampled = df.resample(timeframe, closed='left', label='left').agg({\n",
    "            'Open': 'first',\n",
    "            'High': 'max',\n",
    "            'Low': 'min',\n",
    "            'Close': 'last',\n",
    "            'Volume': 'sum'\n",
    "        }).dropna()\n",
    "        \n",
    "        # Validate output\n",
    "        assert not df_resampled.empty, \"Resampling resulted in empty dataframe\"\n",
    "        assert not df_resampled.isnull().any().any(), \"NaN values found in resampled data\"\n",
    "        \n",
    "        # Save output\n",
    "        df_resampled.to_csv(output_file)\n",
    "        print(f\"Successfully resampled to {timeframe} timeframe\")\n",
    "        \n",
    "    except Exception as e:\n",
    "        print(f\"Error during resampling: {str(e)}\")\n",
    "\n",
    "# Usage\n",
    "input_file = 'data/futures/BTCUSDT/BTCUSDT_futures_2020-01-01_to_2025-01-29_1m.csv'\n",
    "output_file = '../data/BTCUSDT_3h_2020-2025.csv'\n",
    "resample_ohlcv(input_file, output_file, '3h')"
   ]
  },
  {
   "cell_type": "code",
   "execution_count": 12,
   "metadata": {},
   "outputs": [
    {
     "data": {
      "text/html": [
       "<div>\n",
       "<style scoped>\n",
       "    .dataframe tbody tr th:only-of-type {\n",
       "        vertical-align: middle;\n",
       "    }\n",
       "\n",
       "    .dataframe tbody tr th {\n",
       "        vertical-align: top;\n",
       "    }\n",
       "\n",
       "    .dataframe thead th {\n",
       "        text-align: right;\n",
       "    }\n",
       "</style>\n",
       "<table border=\"1\" class=\"dataframe\">\n",
       "  <thead>\n",
       "    <tr style=\"text-align: right;\">\n",
       "      <th></th>\n",
       "      <th>Timestamp</th>\n",
       "      <th>Open</th>\n",
       "      <th>High</th>\n",
       "      <th>Low</th>\n",
       "      <th>Close</th>\n",
       "      <th>Volume</th>\n",
       "    </tr>\n",
       "  </thead>\n",
       "  <tbody>\n",
       "    <tr>\n",
       "      <th>14839</th>\n",
       "      <td>2025-01-28 21:00:00</td>\n",
       "      <td>101226.3</td>\n",
       "      <td>101489.0</td>\n",
       "      <td>100235.0</td>\n",
       "      <td>101279.6</td>\n",
       "      <td>23501.067</td>\n",
       "    </tr>\n",
       "    <tr>\n",
       "      <th>14840</th>\n",
       "      <td>2025-01-29 00:00:00</td>\n",
       "      <td>101279.7</td>\n",
       "      <td>102300.0</td>\n",
       "      <td>101269.7</td>\n",
       "      <td>101744.8</td>\n",
       "      <td>11149.268</td>\n",
       "    </tr>\n",
       "    <tr>\n",
       "      <th>14841</th>\n",
       "      <td>2025-01-29 03:00:00</td>\n",
       "      <td>101744.9</td>\n",
       "      <td>102368.4</td>\n",
       "      <td>101725.5</td>\n",
       "      <td>102218.3</td>\n",
       "      <td>6990.586</td>\n",
       "    </tr>\n",
       "    <tr>\n",
       "      <th>14842</th>\n",
       "      <td>2025-01-29 06:00:00</td>\n",
       "      <td>102218.3</td>\n",
       "      <td>103012.6</td>\n",
       "      <td>102187.5</td>\n",
       "      <td>102705.0</td>\n",
       "      <td>12724.673</td>\n",
       "    </tr>\n",
       "    <tr>\n",
       "      <th>14843</th>\n",
       "      <td>2025-01-29 09:00:00</td>\n",
       "      <td>102705.0</td>\n",
       "      <td>102744.8</td>\n",
       "      <td>102153.8</td>\n",
       "      <td>102635.0</td>\n",
       "      <td>8957.823</td>\n",
       "    </tr>\n",
       "  </tbody>\n",
       "</table>\n",
       "</div>"
      ],
      "text/plain": [
       "                 Timestamp      Open      High       Low     Close     Volume\n",
       "14839  2025-01-28 21:00:00  101226.3  101489.0  100235.0  101279.6  23501.067\n",
       "14840  2025-01-29 00:00:00  101279.7  102300.0  101269.7  101744.8  11149.268\n",
       "14841  2025-01-29 03:00:00  101744.9  102368.4  101725.5  102218.3   6990.586\n",
       "14842  2025-01-29 06:00:00  102218.3  103012.6  102187.5  102705.0  12724.673\n",
       "14843  2025-01-29 09:00:00  102705.0  102744.8  102153.8  102635.0   8957.823"
      ]
     },
     "execution_count": 12,
     "metadata": {},
     "output_type": "execute_result"
    }
   ],
   "source": [
    "df = pd.read_csv('../data/BTCUSDT_3h_2020-2025.csv') # Load resampled data\n",
    "df.tail(5) # Display last 5 rows"
   ]
  }
 ],
 "metadata": {
  "kernelspec": {
   "display_name": ".venv",
   "language": "python",
   "name": "python3"
  },
  "language_info": {
   "codemirror_mode": {
    "name": "ipython",
    "version": 3
   },
   "file_extension": ".py",
   "mimetype": "text/x-python",
   "name": "python",
   "nbconvert_exporter": "python",
   "pygments_lexer": "ipython3",
   "version": "3.12.1"
  }
 },
 "nbformat": 4,
 "nbformat_minor": 2
}
