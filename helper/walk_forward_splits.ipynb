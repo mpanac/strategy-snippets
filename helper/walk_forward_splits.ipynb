{
 "cells": [
  {
   "cell_type": "code",
   "execution_count": 1,
   "metadata": {},
   "outputs": [],
   "source": [
    "import pandas as pd\n",
    "import vectorbt as vbt"
   ]
  },
  {
   "cell_type": "code",
   "execution_count": 3,
   "metadata": {},
   "outputs": [],
   "source": [
    "df = pd.read_csv('../data/BTCUSDT_1h_2020-2025.csv')"
   ]
  },
  {
   "cell_type": "code",
   "execution_count": 9,
   "metadata": {},
   "outputs": [
    {
     "name": "stderr",
     "output_type": "stream",
     "text": [
      "d:\\Github\\strategy-snippets\\.venv\\Lib\\site-packages\\jupyter_client\\session.py:721: UserWarning:\n",
      "\n",
      "Message serialization failed with:\n",
      "Out of range float values are not JSON compliant: nan\n",
      "Supporting this message is deprecated in jupyter-client 7, please make sure your message is JSON-compliant\n",
      "\n",
      "d:\\Github\\strategy-snippets\\.venv\\Lib\\site-packages\\jupyter_client\\session.py:721: UserWarning:\n",
      "\n",
      "Message serialization failed with:\n",
      "Out of range float values are not JSON compliant: nan\n",
      "Supporting this message is deprecated in jupyter-client 7, please make sure your message is JSON-compliant\n",
      "\n"
     ]
    },
    {
     "data": {
      "application/vnd.jupyter.widget-view+json": {
       "model_id": "1a19e7992ae3449b885c5b25a35088d7",
       "version_major": 2,
       "version_minor": 0
      },
      "text/plain": [
       "FigureWidget({\n",
       "    'data': [{'colorscale': [[0.0, '#1f77b4'], [1.0, '#1f77b4']],\n",
       "              'hoverongaps': False,\n",
       "              'name': 'In-Sample',\n",
       "              'showlegend': True,\n",
       "              'showscale': False,\n",
       "              'type': 'heatmap',\n",
       "              'uid': '65bca111-1be3-4bb1-91e4-49601fedb96c',\n",
       "              'x': array([    0,     1,     2, ..., 44529, 44530, 44531]),\n",
       "              'y': array([5, 4, 3, 2, 1, 0]),\n",
       "              'z': array([[nan, nan, nan, ..., nan, nan, nan],\n",
       "                          [nan, nan, nan, ..., nan, nan, nan],\n",
       "                          [nan, nan, nan, ..., nan, nan, nan],\n",
       "                          [nan, nan, nan, ..., nan, nan, nan],\n",
       "                          [nan, nan, nan, ..., nan, nan, nan],\n",
       "                          [ 0.,  0.,  0., ..., nan, nan, nan]])},\n",
       "             {'colorscale': [[0.0, '#ff7f0e'], [1.0, '#ff7f0e']],\n",
       "              'hoverongaps': False,\n",
       "              'name': 'Out-of-Sample',\n",
       "              'showlegend': True,\n",
       "              'showscale': False,\n",
       "              'type': 'heatmap',\n",
       "              'uid': '6eb3e9ad-6127-409b-ae86-b29fdf47f8b4',\n",
       "              'x': array([    0,     1,     2, ..., 44529, 44530, 44531]),\n",
       "              'y': array([5, 4, 3, 2, 1, 0]),\n",
       "              'z': array([[nan, nan, nan, ...,  1.,  1.,  1.],\n",
       "                          [nan, nan, nan, ..., nan, nan, nan],\n",
       "                          [nan, nan, nan, ..., nan, nan, nan],\n",
       "                          [nan, nan, nan, ..., nan, nan, nan],\n",
       "                          [nan, nan, nan, ..., nan, nan, nan],\n",
       "                          [nan, nan, nan, ..., nan, nan, nan]])}],\n",
       "    'layout': {'height': 400,\n",
       "               'legend': {'orientation': 'h',\n",
       "                          'traceorder': 'normal',\n",
       "                          'x': 1,\n",
       "                          'xanchor': 'right',\n",
       "                          'y': 1.02,\n",
       "                          'yanchor': 'bottom'},\n",
       "               'margin': {'b': 30, 'l': 30, 'r': 30, 't': 30},\n",
       "               'template': '...',\n",
       "               'width': 800,\n",
       "               'yaxis': {'type': 'category'}}\n",
       "})"
      ]
     },
     "execution_count": 9,
     "metadata": {},
     "output_type": "execute_result"
    }
   ],
   "source": [
    "\n",
    "# Calculate parameters that will be used in rolling split function in the next cell\n",
    "def wfo_rolling_split_params(total_candles, insample_percentage, n):\n",
    "    # Calculate the window length using the formula derived\n",
    "    window_len = total_candles / (1 + (n - 1) * (1 - insample_percentage))\n",
    "\n",
    "    # Set lengths tuple (just the in-sample percentage as per your request)\n",
    "    set_lens = (insample_percentage,)\n",
    "    \n",
    "    # Return the number of windows, window length, and set lengths\n",
    "    return int(n), int(window_len), set_lens\n",
    "\n",
    "# Define the parameters for the rolling split\n",
    "total_candles = len(df) # Total number of candles in the dataset\n",
    "number_of_windows = 6 # 2020-2025 (7 years) of data divided into 10 windows \n",
    "in_sample_percentage = 0.8 # 75% of the data will be used for training\n",
    "\n",
    "n, window_len, set_lens = wfo_rolling_split_params(total_candles=len(df),\n",
    "                                                   insample_percentage=in_sample_percentage,\n",
    "                                                   n=number_of_windows)\n",
    "\n",
    "# Split data into in-sample and out-of-sample sets\n",
    "(in_ohlcv, in_indexes), (out_ohlcv, out_indexes) = df.vbt.rolling_split(\n",
    "    n=n,\n",
    "    window_len=window_len,\n",
    "    set_lens=set_lens\n",
    ")\n",
    "\n",
    "df.vbt.rolling_split(\n",
    "    n=n,\n",
    "    window_len=window_len,\n",
    "    set_lens=set_lens,\n",
    "    trace_names=['In-Sample', 'Out-of-Sample'],\n",
    "    plot=True).update_layout(width=800, height=400)\n"
   ]
  }
 ],
 "metadata": {
  "kernelspec": {
   "display_name": ".venv",
   "language": "python",
   "name": "python3"
  },
  "language_info": {
   "codemirror_mode": {
    "name": "ipython",
    "version": 3
   },
   "file_extension": ".py",
   "mimetype": "text/x-python",
   "name": "python",
   "nbconvert_exporter": "python",
   "pygments_lexer": "ipython3",
   "version": "3.12.1"
  }
 },
 "nbformat": 4,
 "nbformat_minor": 2
}
