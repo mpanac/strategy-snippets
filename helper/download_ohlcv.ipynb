{
 "cells": [
  {
   "cell_type": "code",
   "execution_count": 1,
   "metadata": {},
   "outputs": [
    {
     "ename": "ModuleNotFoundError",
     "evalue": "No module named 'binance'",
     "output_type": "error",
     "traceback": [
      "\u001b[1;31m---------------------------------------------------------------------------\u001b[0m",
      "\u001b[1;31mModuleNotFoundError\u001b[0m                       Traceback (most recent call last)",
      "Cell \u001b[1;32mIn[1], line 2\u001b[0m\n\u001b[0;32m      1\u001b[0m \u001b[38;5;66;03m# Import required libraries\u001b[39;00m\n\u001b[1;32m----> 2\u001b[0m \u001b[38;5;28;01mfrom\u001b[39;00m\u001b[38;5;250m \u001b[39m\u001b[38;5;21;01mbinance\u001b[39;00m\u001b[38;5;21;01m.\u001b[39;00m\u001b[38;5;21;01mclient\u001b[39;00m\u001b[38;5;250m \u001b[39m\u001b[38;5;28;01mimport\u001b[39;00m Client\n\u001b[0;32m      3\u001b[0m \u001b[38;5;28;01mimport\u001b[39;00m\u001b[38;5;250m \u001b[39m\u001b[38;5;21;01mpandas\u001b[39;00m\u001b[38;5;250m \u001b[39m\u001b[38;5;28;01mas\u001b[39;00m\u001b[38;5;250m \u001b[39m\u001b[38;5;21;01mpd\u001b[39;00m\n\u001b[0;32m      4\u001b[0m \u001b[38;5;28;01mfrom\u001b[39;00m\u001b[38;5;250m \u001b[39m\u001b[38;5;21;01mdatetime\u001b[39;00m\u001b[38;5;250m \u001b[39m\u001b[38;5;28;01mimport\u001b[39;00m datetime, timedelta\n",
      "\u001b[1;31mModuleNotFoundError\u001b[0m: No module named 'binance'"
     ]
    }
   ],
   "source": [
    "# Import required libraries\n",
    "from binance.client import Client\n",
    "import pandas as pd\n",
    "from datetime import datetime, timedelta\n",
    "import os\n",
    "import time\n",
    "from tqdm import tqdm"
   ]
  },
  {
   "cell_type": "markdown",
   "metadata": {},
   "source": [
    "### Download OHLCV Data"
   ]
  },
  {
   "cell_type": "code",
   "execution_count": null,
   "metadata": {},
   "outputs": [],
   "source": [
    "# This script downloads the data\n",
    "\n",
    "def download_binance_data(symbol, market_type='futures', start_date=None, end_date=None):\n",
    "    \"\"\"\n",
    "    Download 1-minute OHLCV data from Binance\n",
    "    market_type: 'spot' or 'futures'\n",
    "    \"\"\"\n",
    "    \n",
    "    # Initialize Binance client\n",
    "    client = Client()\n",
    "    \n",
    "    # Create data directory if it doesn't exist\n",
    "    if not os.path.exists('data'):\n",
    "        os.makedirs('data')\n",
    "    \n",
    "    # Set default dates if not provided\n",
    "    if not start_date:\n",
    "        start_date = (datetime.now() - timedelta(days=1)).strftime(\"%d %b %Y\")\n",
    "    if not end_date:\n",
    "        end_date = datetime.now().strftime(\"%d %b %Y\")\n",
    "    \n",
    "    # Convert dates to datetime objects for calculation\n",
    "    start_dt = datetime.strptime(start_date, \"%d %b %Y\")\n",
    "    end_dt = datetime.strptime(end_date, \"%d %b %Y\")\n",
    "    \n",
    "    try:\n",
    "        # Calculate total days for progress bar\n",
    "        total_days = (end_dt - start_dt).days + 1\n",
    "        \n",
    "        # Process data in daily chunks with progress bar\n",
    "        with tqdm(total=total_days, desc=f\"Downloading {symbol} {market_type} data\") as pbar:\n",
    "            all_klines = []\n",
    "            current_date = start_dt\n",
    "            \n",
    "            while current_date <= end_dt:\n",
    "                next_date = current_date + timedelta(days=1)\n",
    "                \n",
    "                # Get historical klines/candlestick data for each day\n",
    "                if market_type.lower() == 'futures':\n",
    "                    klines = client.futures_historical_klines(\n",
    "                        symbol=symbol,\n",
    "                        interval=Client.KLINE_INTERVAL_1MINUTE,\n",
    "                        start_str=current_date.strftime(\"%d %b %Y\"),\n",
    "                        end_str=next_date.strftime(\"%d %b %Y\")\n",
    "                    )\n",
    "                else:  # spot market\n",
    "                    klines = client.get_historical_klines(\n",
    "                        symbol=symbol,\n",
    "                        interval=Client.KLINE_INTERVAL_1MINUTE,\n",
    "                        start_str=current_date.strftime(\"%d %b %Y\"),\n",
    "                        end_str=next_date.strftime(\"%d %b %Y\")\n",
    "                    )\n",
    "                \n",
    "                all_klines.extend(klines)\n",
    "                current_date = next_date\n",
    "                pbar.update(1)\n",
    "                time.sleep(0.1)  # Small delay to avoid rate limits\n",
    "        \n",
    "        # Create DataFrame\n",
    "        df = pd.DataFrame(all_klines, columns=[\n",
    "            'timestamp', 'open', 'high', 'low', 'close', 'volume',\n",
    "            'close_time', 'quote_volume', 'trades', 'taker_buy_base',\n",
    "            'taker_buy_quote', 'ignored'\n",
    "        ])\n",
    "        \n",
    "        # Convert timestamp to datetime\n",
    "        df['timestamp'] = pd.to_datetime(df['timestamp'], unit='ms')\n",
    "        \n",
    "        # Select and convert relevant columns to float\n",
    "        df = df[['timestamp', 'open', 'high', 'low', 'close', 'volume']]\n",
    "        for col in ['open', 'high', 'low', 'close', 'volume']:\n",
    "            df[col] = df[col].astype(float)\n",
    "            \n",
    "        # Save to CSV\n",
    "        filename = f'data/{symbol}_{market_type}_{start_date.replace(\" \", \"_\")}_{end_date.replace(\" \", \"_\")}.csv'\n",
    "        df.to_csv(filename, index=False)\n",
    "        print(f\"Data saved to {filename}\")\n",
    "        \n",
    "    except Exception as e:\n",
    "        print(f\"Error downloading data: {str(e)}\")"
   ]
  }
 ],
 "metadata": {
  "kernelspec": {
   "display_name": "base",
   "language": "python",
   "name": "python3"
  },
  "language_info": {
   "codemirror_mode": {
    "name": "ipython",
    "version": 3
   },
   "file_extension": ".py",
   "mimetype": "text/x-python",
   "name": "python",
   "nbconvert_exporter": "python",
   "pygments_lexer": "ipython3",
   "version": "3.12.3"
  }
 },
 "nbformat": 4,
 "nbformat_minor": 2
}
