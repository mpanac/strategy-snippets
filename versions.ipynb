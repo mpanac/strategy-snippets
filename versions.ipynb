{
 "cells": [
  {
   "cell_type": "code",
   "execution_count": 1,
   "id": "5c73e888",
   "metadata": {},
   "outputs": [],
   "source": [
    "import sys\n",
    "import pandas as pd\n",
    "import numpy as np\n",
    "import numba\n",
    "import matplotlib\n",
    "import vectorbt as vbt\n",
    "import plotly\n",
    "import ccxt"
   ]
  },
  {
   "cell_type": "code",
   "execution_count": 2,
   "id": "0e68f918",
   "metadata": {},
   "outputs": [
    {
     "name": "stdout",
     "output_type": "stream",
     "text": [
      "Python version: 3.12.1 (tags/v3.12.1:2305ca5, Dec  7 2023, 22:03:25) [MSC v.1937 64 bit (AMD64)]\n",
      "--------------------\n",
      "pandas version: 2.2.3\n",
      "numpy version: 2.1.3\n",
      "numba version: 0.61.0\n",
      "matplotlib version: 3.10.0\n",
      "vectorbt version: 0.27.1\n",
      "plotly version: 5.24.1\n",
      "ccxt version: 4.4.52\n",
      "--------------------\n",
      "For python-binance version, please check the output of 'pip list' or 'conda list'.\n"
     ]
    }
   ],
   "source": [
    "\n",
    "# For python-binance, checking version programmatically can be tricky.\n",
    "# Best to rely on 'pip list' or 'conda list' output for this one.\n",
    "\n",
    "print(f\"Python version: {sys.version}\") # Gets detailed Python version\n",
    "print(\"-\" * 20)\n",
    "try:\n",
    "    print(f\"pandas version: {pd.__version__}\")\n",
    "except AttributeError:\n",
    "    print(\"Could not retrieve pandas version via __version__.\")\n",
    "try:\n",
    "    print(f\"numpy version: {np.__version__}\")\n",
    "except AttributeError:\n",
    "    print(\"Could not retrieve numpy version via __version__.\")\n",
    "try:\n",
    "    print(f\"numba version: {numba.__version__}\")\n",
    "except AttributeError:\n",
    "    print(\"Could not retrieve numba version via __version__.\")\n",
    "try:\n",
    "    print(f\"matplotlib version: {matplotlib.__version__}\")\n",
    "except AttributeError:\n",
    "    print(\"Could not retrieve matplotlib version via __version__.\")\n",
    "try:\n",
    "    print(f\"vectorbt version: {vbt.__version__}\")\n",
    "except AttributeError:\n",
    "    print(\"Could not retrieve vectorbt version via __version__.\")\n",
    "try:\n",
    "    print(f\"plotly version: {plotly.__version__}\")\n",
    "except AttributeError:\n",
    "    print(\"Could not retrieve plotly version via __version__.\")\n",
    "try:\n",
    "    print(f\"ccxt version: {ccxt.__version__}\")\n",
    "except AttributeError:\n",
    "    print(\"Could not retrieve ccxt version via __version__.\")\n",
    "\n",
    "print(\"-\" * 20)\n",
    "print(\"For python-binance version, please check the output of 'pip list' or 'conda list'.\")"
   ]
  }
 ],
 "metadata": {
  "kernelspec": {
   "display_name": ".venv",
   "language": "python",
   "name": "python3"
  },
  "language_info": {
   "codemirror_mode": {
    "name": "ipython",
    "version": 3
   },
   "file_extension": ".py",
   "mimetype": "text/x-python",
   "name": "python",
   "nbconvert_exporter": "python",
   "pygments_lexer": "ipython3",
   "version": "3.12.1"
  }
 },
 "nbformat": 4,
 "nbformat_minor": 5
}
