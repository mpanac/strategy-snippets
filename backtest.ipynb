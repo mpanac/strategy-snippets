{
 "cells": [
  {
   "cell_type": "code",
   "execution_count": 1,
   "metadata": {},
   "outputs": [],
   "source": [
    "import pandas as pd\n",
    "import numpy as np\n",
    "import matplotlib.pyplot as plt\n",
    "import vectorbt as vbt"
   ]
  },
  {
   "cell_type": "code",
   "execution_count": 2,
   "metadata": {},
   "outputs": [],
   "source": [
    "df = pd.read_csv('../data/BTCUSDT_1h_2020-2025.csv')"
   ]
  },
  {
   "cell_type": "code",
   "execution_count": 3,
   "metadata": {},
   "outputs": [],
   "source": [
    "# import a function that returns values that can help us split the data into train and test\n",
    "from helper_functions.train_test_split import wfo_rolling_split_params\n",
    "\n",
    "# Define the parameters for the rolling split\n",
    "total_candles = len(df) # Total number of candles in the dataset\n",
    "number_of_windows = 10 # 2020-2025 (5 years) of data divided into 10 windows \n",
    "in_sample_percentage = 0.8 # 75% of the data will be used for training\n",
    "\n",
    "n, window_len, set_lens = wfo_rolling_split_params(total_candles=len(df),\n",
    "                                                   insample_percentage=in_sample_percentage,\n",
    "                                                   n=number_of_windows)\n",
    "\n",
    "# Split data into in-sample and out-of-sample sets\n",
    "(in_ohlcv, in_indexes), (out_ohlcv, out_indexes) = df.vbt.rolling_split(\n",
    "    n=n,\n",
    "    window_len=window_len,\n",
    "    set_lens=set_lens\n",
    ")\n",
    "\n",
    "# we can also display the in-sample and out-of-sample windows to better undersand the split\n",
    "# df.vbt.rolling_split(\n",
    "#     n=n,\n",
    "#     window_len=window_len,\n",
    "#     set_lens=set_lens,\n",
    "#     trace_names=['In-Sample', 'Out-of-Sample'],\n",
    "#     plot=True).update_layout(width=800, height=400)\n"
   ]
  },
  {
   "cell_type": "code",
   "execution_count": 4,
   "metadata": {},
   "outputs": [],
   "source": [
    "# parameters_ranges = {\n",
    "#     'regression_window': np.arange(10, 101, 10),\n",
    "#     'trend_strength': np.linspace(1.0, 2.5, 6),\n",
    "#     'vol_threshold': np.linspace(1, 2, 6)\n",
    "# }\n",
    "# parameters_ranges"
   ]
  },
  {
   "cell_type": "code",
   "execution_count": 5,
   "metadata": {},
   "outputs": [
    {
     "data": {
      "text/plain": [
       "{'regression_window': array([10, 15, 20, 25, 30, 35, 40, 45, 50, 55, 60]),\n",
       " 'bb_mult': array([1.        , 1.28571429, 1.57142857, 1.85714286, 2.14285714,\n",
       "        2.42857143, 2.71428571, 3.        ]),\n",
       " 'vol_threshold': array([1.5, 1.7, 1.9, 2.1, 2.3, 2.5])}"
      ]
     },
     "execution_count": 5,
     "metadata": {},
     "output_type": "execute_result"
    }
   ],
   "source": [
    "\n",
    "parameters_ranges = {\n",
    "    'regression_window': np.arange(10, 61, 5),\n",
    "    'bb_mult': np.linspace(1, 3, 8),\n",
    "    'vol_threshold': np.linspace(1.5, 2.5, 6)\n",
    "}\n",
    "parameters_ranges"
   ]
  },
  {
   "cell_type": "code",
   "execution_count": 6,
   "metadata": {},
   "outputs": [
    {
     "name": "stderr",
     "output_type": "stream",
     "text": [
      "2025-01-31 14:32:41,491 - INFO - Starting optimization with 8 cores\n",
      "Window 1: 100%|██████████| 528/528 [00:52<00:00, 10.04it/s]\n",
      "2025-01-31 14:33:45,716 - INFO - \n",
      "Window 1 Results:\n",
      "2025-01-31 14:33:45,717 - INFO - In-sample top Sharpe: 1.7564\n",
      "2025-01-31 14:33:45,718 - INFO - Chosen parameters: {'regression_window': np.int64(15), 'bb_mult': np.float64(2.7142857142857144), 'vol_threshold': np.float64(1.5)}\n",
      "2025-01-31 14:33:45,718 - INFO - Out-of-sample Sharpe: -1.1468\n",
      "Window 2: 100%|██████████| 528/528 [00:17<00:00, 30.69it/s]\n",
      "2025-01-31 14:34:03,229 - INFO - \n",
      "Window 2 Results:\n",
      "2025-01-31 14:34:03,230 - INFO - In-sample top Sharpe: 2.0540\n",
      "2025-01-31 14:34:03,230 - INFO - Chosen parameters: {'regression_window': np.int64(10), 'bb_mult': np.float64(1.8571428571428572), 'vol_threshold': np.float64(2.3)}\n",
      "2025-01-31 14:34:03,231 - INFO - Out-of-sample Sharpe: 0.7037\n",
      "Window 3: 100%|██████████| 528/528 [00:16<00:00, 31.45it/s]\n",
      "2025-01-31 14:34:20,325 - INFO - \n",
      "Window 3 Results:\n",
      "2025-01-31 14:34:20,326 - INFO - In-sample top Sharpe: 2.1715\n",
      "2025-01-31 14:34:20,326 - INFO - Chosen parameters: {'regression_window': np.int64(15), 'bb_mult': np.float64(1.0), 'vol_threshold': np.float64(1.7)}\n",
      "2025-01-31 14:34:20,327 - INFO - Out-of-sample Sharpe: -2.3640\n",
      "Window 4: 100%|██████████| 528/528 [00:16<00:00, 32.62it/s]\n",
      "2025-01-31 14:34:36,832 - INFO - \n",
      "Window 4 Results:\n",
      "2025-01-31 14:34:36,833 - INFO - In-sample top Sharpe: 1.9379\n",
      "2025-01-31 14:34:36,834 - INFO - Chosen parameters: {'regression_window': np.int64(10), 'bb_mult': np.float64(2.4285714285714284), 'vol_threshold': np.float64(2.1)}\n",
      "2025-01-31 14:34:36,834 - INFO - Out-of-sample Sharpe: 0.6606\n",
      "Window 5: 100%|██████████| 528/528 [00:15<00:00, 33.41it/s]\n",
      "2025-01-31 14:34:53,008 - INFO - \n",
      "Window 5 Results:\n",
      "2025-01-31 14:34:53,009 - INFO - In-sample top Sharpe: 2.3178\n",
      "2025-01-31 14:34:53,009 - INFO - Chosen parameters: {'regression_window': np.int64(10), 'bb_mult': np.float64(1.2857142857142856), 'vol_threshold': np.float64(2.1)}\n",
      "2025-01-31 14:34:53,010 - INFO - Out-of-sample Sharpe: 0.0977\n",
      "Window 6: 100%|██████████| 528/528 [00:15<00:00, 33.06it/s]\n",
      "2025-01-31 14:35:09,370 - INFO - \n",
      "Window 6 Results:\n",
      "2025-01-31 14:35:09,371 - INFO - In-sample top Sharpe: 1.1678\n",
      "2025-01-31 14:35:09,371 - INFO - Chosen parameters: {'regression_window': np.int64(10), 'bb_mult': np.float64(1.5714285714285714), 'vol_threshold': np.float64(2.1)}\n",
      "2025-01-31 14:35:09,372 - INFO - Out-of-sample Sharpe: 0.3441\n",
      "Window 7: 100%|██████████| 528/528 [00:16<00:00, 31.92it/s]\n",
      "2025-01-31 14:35:26,269 - INFO - \n",
      "Window 7 Results:\n",
      "2025-01-31 14:35:26,269 - INFO - In-sample top Sharpe: 1.1585\n",
      "2025-01-31 14:35:26,270 - INFO - Chosen parameters: {'regression_window': np.int64(10), 'bb_mult': np.float64(1.5714285714285714), 'vol_threshold': np.float64(1.9)}\n",
      "2025-01-31 14:35:26,271 - INFO - Out-of-sample Sharpe: 1.3185\n",
      "Window 8: 100%|██████████| 528/528 [00:15<00:00, 34.01it/s]\n",
      "2025-01-31 14:35:42,113 - INFO - \n",
      "Window 8 Results:\n",
      "2025-01-31 14:35:42,114 - INFO - In-sample top Sharpe: 1.9479\n",
      "2025-01-31 14:35:42,115 - INFO - Chosen parameters: {'regression_window': np.int64(10), 'bb_mult': np.float64(1.5714285714285714), 'vol_threshold': np.float64(2.3)}\n",
      "2025-01-31 14:35:42,115 - INFO - Out-of-sample Sharpe: 0.7809\n",
      "Window 9: 100%|██████████| 528/528 [00:16<00:00, 31.48it/s]\n",
      "2025-01-31 14:35:59,933 - INFO - \n",
      "Window 9 Results:\n",
      "2025-01-31 14:35:59,934 - INFO - In-sample top Sharpe: 1.5002\n",
      "2025-01-31 14:35:59,935 - INFO - Chosen parameters: {'regression_window': np.int64(10), 'bb_mult': np.float64(2.7142857142857144), 'vol_threshold': np.float64(1.9)}\n",
      "2025-01-31 14:35:59,936 - INFO - Out-of-sample Sharpe: inf\n",
      "Window 10: 100%|██████████| 528/528 [00:17<00:00, 29.88it/s]\n",
      "2025-01-31 14:36:17,964 - INFO - \n",
      "Window 10 Results:\n",
      "2025-01-31 14:36:17,965 - INFO - In-sample top Sharpe: 1.5836\n",
      "2025-01-31 14:36:17,965 - INFO - Chosen parameters: {'regression_window': np.int64(10), 'bb_mult': np.float64(1.2857142857142856), 'vol_threshold': np.float64(1.9)}\n",
      "2025-01-31 14:36:17,966 - INFO - Out-of-sample Sharpe: -0.8105\n",
      "2025-01-31 14:36:18,798 - INFO - Combined out-of-sample dataframe saved to results/mean_reversion\\out_of_sample_df.csv\n",
      "2025-01-31 14:36:18,801 - INFO - Results saved to markdown: results/mean_reversion\\wfo_results.md\n",
      "2025-01-31 14:36:18,810 - INFO - Results saved to CSV: results/mean_reversion\\wfo_results.csv\n"
     ]
    }
   ],
   "source": [
    "from wfo import WFOptimizer\n",
    "\n",
    "\n",
    "optimizer = WFOptimizer()\n",
    "\n",
    "results = optimizer.optimize(\n",
    "    in_ohlcv = in_ohlcv,\n",
    "    out_ohlcv = out_ohlcv,\n",
    "    in_indexes = in_indexes,\n",
    "    out_indexes = out_indexes,\n",
    "    param_ranges=parameters_ranges,\n",
    "    freq='1h',\n",
    "    fees=0.0005,\n",
    "    slippage=0,\n",
    "    init_cash=1000,\n",
    "    auto_select=True,\n",
    "    subfolder='results/mean_reversion',\n",
    ")"
   ]
  },
  {
   "cell_type": "code",
   "execution_count": 7,
   "metadata": {},
   "outputs": [],
   "source": [
    "# import matplotlib.pyplot as plt\n",
    "\n",
    "# # Set up the figure and axes\n",
    "# plt.figure(figsize=(14, 8))\n",
    "\n",
    "# # Plot the Close price\n",
    "# plt.plot(df.index, df['Close'], label='Close Price', color='blue', alpha=0.6)\n",
    "\n",
    "# # Highlight Trend-Following Regime\n",
    "# plt.fill_between(\n",
    "#     df.index,\n",
    "#     df['Close'],\n",
    "#     where=(df['Regime'] == 'Trend'),\n",
    "#     color='red',\n",
    "#     alpha=0.3,\n",
    "#     label='Trend-Following Regime'\n",
    "# )\n",
    "\n",
    "# # Highlight Mean-Reverting Regime\n",
    "# plt.fill_between(\n",
    "#     df.index,\n",
    "#     df['Close'],\n",
    "#     where=(df['Regime'] == 'Mean-Revert'),\n",
    "#     color='green',\n",
    "#     alpha=0.3,\n",
    "#     label='Mean-Reverting Regime'\n",
    "# )\n",
    "\n",
    "# # Add labels, legend, and title\n",
    "# plt.title('Market Regimes Based on Volatility Filter', fontsize=16)\n",
    "# plt.xlabel('Date/Time', fontsize=14)\n",
    "# plt.ylabel('Close Price', fontsize=14)\n",
    "# plt.legend(loc='upper left', fontsize=12)\n",
    "# plt.grid(alpha=0.3)\n",
    "# plt.tight_layout()\n",
    "\n",
    "# # Show the plot\n",
    "# plt.show()\n"
   ]
  }
 ],
 "metadata": {
  "kernelspec": {
   "display_name": ".venv",
   "language": "python",
   "name": "python3"
  },
  "language_info": {
   "codemirror_mode": {
    "name": "ipython",
    "version": 3
   },
   "file_extension": ".py",
   "mimetype": "text/x-python",
   "name": "python",
   "nbconvert_exporter": "python",
   "pygments_lexer": "ipython3",
   "version": "3.12.1"
  }
 },
 "nbformat": 4,
 "nbformat_minor": 2
}
